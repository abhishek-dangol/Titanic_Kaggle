{
  "nbformat": 4,
  "nbformat_minor": 0,
  "metadata": {
    "colab": {
      "name": "Titanic_Kaggle.ipynb",
      "provenance": [],
      "collapsed_sections": [
        "IDAcG-qLFYXw"
      ],
      "include_colab_link": true
    },
    "kernelspec": {
      "name": "python3",
      "display_name": "Python 3"
    }
  },
  "cells": [
    {
      "cell_type": "markdown",
      "metadata": {
        "id": "view-in-github",
        "colab_type": "text"
      },
      "source": [
        "<a href=\"https://colab.research.google.com/github/abhishek-dangol/Titanic_Kaggle/blob/master/Titanic_Kaggle.ipynb\" target=\"_parent\"><img src=\"https://colab.research.google.com/assets/colab-badge.svg\" alt=\"Open In Colab\"/></a>"
      ]
    },
    {
      "cell_type": "markdown",
      "metadata": {
        "id": "hTEaq_iX9fby",
        "colab_type": "text"
      },
      "source": [
        ""
      ]
    },
    {
      "cell_type": "markdown",
      "metadata": {
        "id": "FRK5h8dS9gsJ",
        "colab_type": "text"
      },
      "source": [
        "#Load the dependencies\n"
      ]
    },
    {
      "cell_type": "code",
      "metadata": {
        "id": "wMGOAC409ndT",
        "colab_type": "code",
        "colab": {}
      },
      "source": [
        "import numpy as np                                ##perform numerical operation\n",
        "import pandas as pd                               ## to mainpulate data\n",
        "import matplotlib.pyplot as plt\n",
        "from sklearn.linear_model import LogisticRegression\n",
        "from sklearn.model_selection import cross_val_score\n",
        "from sklearn.ensemble import RandomForestClassifier\n",
        "from sklearn.svm import SVC"
      ],
      "execution_count": 0,
      "outputs": []
    },
    {
      "cell_type": "markdown",
      "metadata": {
        "id": "nLoFfBoR_Tx9",
        "colab_type": "text"
      },
      "source": [
        "#To upload the files\n"
      ]
    },
    {
      "cell_type": "code",
      "metadata": {
        "id": "COzgmOhR-_wC",
        "colab_type": "code",
        "outputId": "8cd01743-6314-471e-a103-30ae6057220a",
        "colab": {
          "resources": {
            "http://localhost:8080/nbextensions/google.colab/files.js": {
              "data": "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",
              "ok": true,
              "headers": [
                [
                  "content-type",
                  "application/javascript"
                ]
              ],
              "status": 200,
              "status_text": ""
            }
          },
          "base_uri": "https://localhost:8080/",
          "height": 142
        }
      },
      "source": [
        "from google.colab import files\n",
        "uploaded = files.upload()"
      ],
      "execution_count": 6,
      "outputs": [
        {
          "output_type": "display_data",
          "data": {
            "text/html": [
              "\n",
              "     <input type=\"file\" id=\"files-82f5a961-ac48-41d7-8478-c4d2808cff40\" name=\"files[]\" multiple disabled />\n",
              "     <output id=\"result-82f5a961-ac48-41d7-8478-c4d2808cff40\">\n",
              "      Upload widget is only available when the cell has been executed in the\n",
              "      current browser session. Please rerun this cell to enable.\n",
              "      </output>\n",
              "      <script src=\"/nbextensions/google.colab/files.js\"></script> "
            ],
            "text/plain": [
              "<IPython.core.display.HTML object>"
            ]
          },
          "metadata": {
            "tags": []
          }
        },
        {
          "output_type": "stream",
          "text": [
            "Saving gender_submission.csv to gender_submission.csv\n",
            "Saving test.csv to test.csv\n",
            "Saving train.csv to train.csv\n"
          ],
          "name": "stdout"
        }
      ]
    },
    {
      "cell_type": "markdown",
      "metadata": {
        "id": "_wZTEZG9_hJM",
        "colab_type": "text"
      },
      "source": [
        "#Reading the data set into pandas Dataframe\n"
      ]
    },
    {
      "cell_type": "code",
      "metadata": {
        "id": "WrF4mCvU_nnN",
        "colab_type": "code",
        "outputId": "fdab2fb3-7af7-436d-a37a-91dec8c84351",
        "colab": {
          "base_uri": "https://localhost:8080/",
          "height": 1000
        }
      },
      "source": [
        "import io\n",
        "\n",
        "titanic_df = pd.read_csv(\"train.csv\")\n",
        "\n",
        "titanic_df.head(100)"
      ],
      "execution_count": 7,
      "outputs": [
        {
          "output_type": "execute_result",
          "data": {
            "text/html": [
              "<div>\n",
              "<style scoped>\n",
              "    .dataframe tbody tr th:only-of-type {\n",
              "        vertical-align: middle;\n",
              "    }\n",
              "\n",
              "    .dataframe tbody tr th {\n",
              "        vertical-align: top;\n",
              "    }\n",
              "\n",
              "    .dataframe thead th {\n",
              "        text-align: right;\n",
              "    }\n",
              "</style>\n",
              "<table border=\"1\" class=\"dataframe\">\n",
              "  <thead>\n",
              "    <tr style=\"text-align: right;\">\n",
              "      <th></th>\n",
              "      <th>PassengerId</th>\n",
              "      <th>Survived</th>\n",
              "      <th>Pclass</th>\n",
              "      <th>Name</th>\n",
              "      <th>Sex</th>\n",
              "      <th>Age</th>\n",
              "      <th>SibSp</th>\n",
              "      <th>Parch</th>\n",
              "      <th>Ticket</th>\n",
              "      <th>Fare</th>\n",
              "      <th>Cabin</th>\n",
              "      <th>Embarked</th>\n",
              "    </tr>\n",
              "  </thead>\n",
              "  <tbody>\n",
              "    <tr>\n",
              "      <th>0</th>\n",
              "      <td>1</td>\n",
              "      <td>0</td>\n",
              "      <td>3</td>\n",
              "      <td>Braund, Mr. Owen Harris</td>\n",
              "      <td>male</td>\n",
              "      <td>22.00</td>\n",
              "      <td>1</td>\n",
              "      <td>0</td>\n",
              "      <td>A/5 21171</td>\n",
              "      <td>7.2500</td>\n",
              "      <td>NaN</td>\n",
              "      <td>S</td>\n",
              "    </tr>\n",
              "    <tr>\n",
              "      <th>1</th>\n",
              "      <td>2</td>\n",
              "      <td>1</td>\n",
              "      <td>1</td>\n",
              "      <td>Cumings, Mrs. John Bradley (Florence Briggs Th...</td>\n",
              "      <td>female</td>\n",
              "      <td>38.00</td>\n",
              "      <td>1</td>\n",
              "      <td>0</td>\n",
              "      <td>PC 17599</td>\n",
              "      <td>71.2833</td>\n",
              "      <td>C85</td>\n",
              "      <td>C</td>\n",
              "    </tr>\n",
              "    <tr>\n",
              "      <th>2</th>\n",
              "      <td>3</td>\n",
              "      <td>1</td>\n",
              "      <td>3</td>\n",
              "      <td>Heikkinen, Miss. Laina</td>\n",
              "      <td>female</td>\n",
              "      <td>26.00</td>\n",
              "      <td>0</td>\n",
              "      <td>0</td>\n",
              "      <td>STON/O2. 3101282</td>\n",
              "      <td>7.9250</td>\n",
              "      <td>NaN</td>\n",
              "      <td>S</td>\n",
              "    </tr>\n",
              "    <tr>\n",
              "      <th>3</th>\n",
              "      <td>4</td>\n",
              "      <td>1</td>\n",
              "      <td>1</td>\n",
              "      <td>Futrelle, Mrs. Jacques Heath (Lily May Peel)</td>\n",
              "      <td>female</td>\n",
              "      <td>35.00</td>\n",
              "      <td>1</td>\n",
              "      <td>0</td>\n",
              "      <td>113803</td>\n",
              "      <td>53.1000</td>\n",
              "      <td>C123</td>\n",
              "      <td>S</td>\n",
              "    </tr>\n",
              "    <tr>\n",
              "      <th>4</th>\n",
              "      <td>5</td>\n",
              "      <td>0</td>\n",
              "      <td>3</td>\n",
              "      <td>Allen, Mr. William Henry</td>\n",
              "      <td>male</td>\n",
              "      <td>35.00</td>\n",
              "      <td>0</td>\n",
              "      <td>0</td>\n",
              "      <td>373450</td>\n",
              "      <td>8.0500</td>\n",
              "      <td>NaN</td>\n",
              "      <td>S</td>\n",
              "    </tr>\n",
              "    <tr>\n",
              "      <th>5</th>\n",
              "      <td>6</td>\n",
              "      <td>0</td>\n",
              "      <td>3</td>\n",
              "      <td>Moran, Mr. James</td>\n",
              "      <td>male</td>\n",
              "      <td>NaN</td>\n",
              "      <td>0</td>\n",
              "      <td>0</td>\n",
              "      <td>330877</td>\n",
              "      <td>8.4583</td>\n",
              "      <td>NaN</td>\n",
              "      <td>Q</td>\n",
              "    </tr>\n",
              "    <tr>\n",
              "      <th>6</th>\n",
              "      <td>7</td>\n",
              "      <td>0</td>\n",
              "      <td>1</td>\n",
              "      <td>McCarthy, Mr. Timothy J</td>\n",
              "      <td>male</td>\n",
              "      <td>54.00</td>\n",
              "      <td>0</td>\n",
              "      <td>0</td>\n",
              "      <td>17463</td>\n",
              "      <td>51.8625</td>\n",
              "      <td>E46</td>\n",
              "      <td>S</td>\n",
              "    </tr>\n",
              "    <tr>\n",
              "      <th>7</th>\n",
              "      <td>8</td>\n",
              "      <td>0</td>\n",
              "      <td>3</td>\n",
              "      <td>Palsson, Master. Gosta Leonard</td>\n",
              "      <td>male</td>\n",
              "      <td>2.00</td>\n",
              "      <td>3</td>\n",
              "      <td>1</td>\n",
              "      <td>349909</td>\n",
              "      <td>21.0750</td>\n",
              "      <td>NaN</td>\n",
              "      <td>S</td>\n",
              "    </tr>\n",
              "    <tr>\n",
              "      <th>8</th>\n",
              "      <td>9</td>\n",
              "      <td>1</td>\n",
              "      <td>3</td>\n",
              "      <td>Johnson, Mrs. Oscar W (Elisabeth Vilhelmina Berg)</td>\n",
              "      <td>female</td>\n",
              "      <td>27.00</td>\n",
              "      <td>0</td>\n",
              "      <td>2</td>\n",
              "      <td>347742</td>\n",
              "      <td>11.1333</td>\n",
              "      <td>NaN</td>\n",
              "      <td>S</td>\n",
              "    </tr>\n",
              "    <tr>\n",
              "      <th>9</th>\n",
              "      <td>10</td>\n",
              "      <td>1</td>\n",
              "      <td>2</td>\n",
              "      <td>Nasser, Mrs. Nicholas (Adele Achem)</td>\n",
              "      <td>female</td>\n",
              "      <td>14.00</td>\n",
              "      <td>1</td>\n",
              "      <td>0</td>\n",
              "      <td>237736</td>\n",
              "      <td>30.0708</td>\n",
              "      <td>NaN</td>\n",
              "      <td>C</td>\n",
              "    </tr>\n",
              "    <tr>\n",
              "      <th>10</th>\n",
              "      <td>11</td>\n",
              "      <td>1</td>\n",
              "      <td>3</td>\n",
              "      <td>Sandstrom, Miss. Marguerite Rut</td>\n",
              "      <td>female</td>\n",
              "      <td>4.00</td>\n",
              "      <td>1</td>\n",
              "      <td>1</td>\n",
              "      <td>PP 9549</td>\n",
              "      <td>16.7000</td>\n",
              "      <td>G6</td>\n",
              "      <td>S</td>\n",
              "    </tr>\n",
              "    <tr>\n",
              "      <th>11</th>\n",
              "      <td>12</td>\n",
              "      <td>1</td>\n",
              "      <td>1</td>\n",
              "      <td>Bonnell, Miss. Elizabeth</td>\n",
              "      <td>female</td>\n",
              "      <td>58.00</td>\n",
              "      <td>0</td>\n",
              "      <td>0</td>\n",
              "      <td>113783</td>\n",
              "      <td>26.5500</td>\n",
              "      <td>C103</td>\n",
              "      <td>S</td>\n",
              "    </tr>\n",
              "    <tr>\n",
              "      <th>12</th>\n",
              "      <td>13</td>\n",
              "      <td>0</td>\n",
              "      <td>3</td>\n",
              "      <td>Saundercock, Mr. William Henry</td>\n",
              "      <td>male</td>\n",
              "      <td>20.00</td>\n",
              "      <td>0</td>\n",
              "      <td>0</td>\n",
              "      <td>A/5. 2151</td>\n",
              "      <td>8.0500</td>\n",
              "      <td>NaN</td>\n",
              "      <td>S</td>\n",
              "    </tr>\n",
              "    <tr>\n",
              "      <th>13</th>\n",
              "      <td>14</td>\n",
              "      <td>0</td>\n",
              "      <td>3</td>\n",
              "      <td>Andersson, Mr. Anders Johan</td>\n",
              "      <td>male</td>\n",
              "      <td>39.00</td>\n",
              "      <td>1</td>\n",
              "      <td>5</td>\n",
              "      <td>347082</td>\n",
              "      <td>31.2750</td>\n",
              "      <td>NaN</td>\n",
              "      <td>S</td>\n",
              "    </tr>\n",
              "    <tr>\n",
              "      <th>14</th>\n",
              "      <td>15</td>\n",
              "      <td>0</td>\n",
              "      <td>3</td>\n",
              "      <td>Vestrom, Miss. Hulda Amanda Adolfina</td>\n",
              "      <td>female</td>\n",
              "      <td>14.00</td>\n",
              "      <td>0</td>\n",
              "      <td>0</td>\n",
              "      <td>350406</td>\n",
              "      <td>7.8542</td>\n",
              "      <td>NaN</td>\n",
              "      <td>S</td>\n",
              "    </tr>\n",
              "    <tr>\n",
              "      <th>15</th>\n",
              "      <td>16</td>\n",
              "      <td>1</td>\n",
              "      <td>2</td>\n",
              "      <td>Hewlett, Mrs. (Mary D Kingcome)</td>\n",
              "      <td>female</td>\n",
              "      <td>55.00</td>\n",
              "      <td>0</td>\n",
              "      <td>0</td>\n",
              "      <td>248706</td>\n",
              "      <td>16.0000</td>\n",
              "      <td>NaN</td>\n",
              "      <td>S</td>\n",
              "    </tr>\n",
              "    <tr>\n",
              "      <th>16</th>\n",
              "      <td>17</td>\n",
              "      <td>0</td>\n",
              "      <td>3</td>\n",
              "      <td>Rice, Master. Eugene</td>\n",
              "      <td>male</td>\n",
              "      <td>2.00</td>\n",
              "      <td>4</td>\n",
              "      <td>1</td>\n",
              "      <td>382652</td>\n",
              "      <td>29.1250</td>\n",
              "      <td>NaN</td>\n",
              "      <td>Q</td>\n",
              "    </tr>\n",
              "    <tr>\n",
              "      <th>17</th>\n",
              "      <td>18</td>\n",
              "      <td>1</td>\n",
              "      <td>2</td>\n",
              "      <td>Williams, Mr. Charles Eugene</td>\n",
              "      <td>male</td>\n",
              "      <td>NaN</td>\n",
              "      <td>0</td>\n",
              "      <td>0</td>\n",
              "      <td>244373</td>\n",
              "      <td>13.0000</td>\n",
              "      <td>NaN</td>\n",
              "      <td>S</td>\n",
              "    </tr>\n",
              "    <tr>\n",
              "      <th>18</th>\n",
              "      <td>19</td>\n",
              "      <td>0</td>\n",
              "      <td>3</td>\n",
              "      <td>Vander Planke, Mrs. Julius (Emelia Maria Vande...</td>\n",
              "      <td>female</td>\n",
              "      <td>31.00</td>\n",
              "      <td>1</td>\n",
              "      <td>0</td>\n",
              "      <td>345763</td>\n",
              "      <td>18.0000</td>\n",
              "      <td>NaN</td>\n",
              "      <td>S</td>\n",
              "    </tr>\n",
              "    <tr>\n",
              "      <th>19</th>\n",
              "      <td>20</td>\n",
              "      <td>1</td>\n",
              "      <td>3</td>\n",
              "      <td>Masselmani, Mrs. Fatima</td>\n",
              "      <td>female</td>\n",
              "      <td>NaN</td>\n",
              "      <td>0</td>\n",
              "      <td>0</td>\n",
              "      <td>2649</td>\n",
              "      <td>7.2250</td>\n",
              "      <td>NaN</td>\n",
              "      <td>C</td>\n",
              "    </tr>\n",
              "    <tr>\n",
              "      <th>20</th>\n",
              "      <td>21</td>\n",
              "      <td>0</td>\n",
              "      <td>2</td>\n",
              "      <td>Fynney, Mr. Joseph J</td>\n",
              "      <td>male</td>\n",
              "      <td>35.00</td>\n",
              "      <td>0</td>\n",
              "      <td>0</td>\n",
              "      <td>239865</td>\n",
              "      <td>26.0000</td>\n",
              "      <td>NaN</td>\n",
              "      <td>S</td>\n",
              "    </tr>\n",
              "    <tr>\n",
              "      <th>21</th>\n",
              "      <td>22</td>\n",
              "      <td>1</td>\n",
              "      <td>2</td>\n",
              "      <td>Beesley, Mr. Lawrence</td>\n",
              "      <td>male</td>\n",
              "      <td>34.00</td>\n",
              "      <td>0</td>\n",
              "      <td>0</td>\n",
              "      <td>248698</td>\n",
              "      <td>13.0000</td>\n",
              "      <td>D56</td>\n",
              "      <td>S</td>\n",
              "    </tr>\n",
              "    <tr>\n",
              "      <th>22</th>\n",
              "      <td>23</td>\n",
              "      <td>1</td>\n",
              "      <td>3</td>\n",
              "      <td>McGowan, Miss. Anna \"Annie\"</td>\n",
              "      <td>female</td>\n",
              "      <td>15.00</td>\n",
              "      <td>0</td>\n",
              "      <td>0</td>\n",
              "      <td>330923</td>\n",
              "      <td>8.0292</td>\n",
              "      <td>NaN</td>\n",
              "      <td>Q</td>\n",
              "    </tr>\n",
              "    <tr>\n",
              "      <th>23</th>\n",
              "      <td>24</td>\n",
              "      <td>1</td>\n",
              "      <td>1</td>\n",
              "      <td>Sloper, Mr. William Thompson</td>\n",
              "      <td>male</td>\n",
              "      <td>28.00</td>\n",
              "      <td>0</td>\n",
              "      <td>0</td>\n",
              "      <td>113788</td>\n",
              "      <td>35.5000</td>\n",
              "      <td>A6</td>\n",
              "      <td>S</td>\n",
              "    </tr>\n",
              "    <tr>\n",
              "      <th>24</th>\n",
              "      <td>25</td>\n",
              "      <td>0</td>\n",
              "      <td>3</td>\n",
              "      <td>Palsson, Miss. Torborg Danira</td>\n",
              "      <td>female</td>\n",
              "      <td>8.00</td>\n",
              "      <td>3</td>\n",
              "      <td>1</td>\n",
              "      <td>349909</td>\n",
              "      <td>21.0750</td>\n",
              "      <td>NaN</td>\n",
              "      <td>S</td>\n",
              "    </tr>\n",
              "    <tr>\n",
              "      <th>25</th>\n",
              "      <td>26</td>\n",
              "      <td>1</td>\n",
              "      <td>3</td>\n",
              "      <td>Asplund, Mrs. Carl Oscar (Selma Augusta Emilia...</td>\n",
              "      <td>female</td>\n",
              "      <td>38.00</td>\n",
              "      <td>1</td>\n",
              "      <td>5</td>\n",
              "      <td>347077</td>\n",
              "      <td>31.3875</td>\n",
              "      <td>NaN</td>\n",
              "      <td>S</td>\n",
              "    </tr>\n",
              "    <tr>\n",
              "      <th>26</th>\n",
              "      <td>27</td>\n",
              "      <td>0</td>\n",
              "      <td>3</td>\n",
              "      <td>Emir, Mr. Farred Chehab</td>\n",
              "      <td>male</td>\n",
              "      <td>NaN</td>\n",
              "      <td>0</td>\n",
              "      <td>0</td>\n",
              "      <td>2631</td>\n",
              "      <td>7.2250</td>\n",
              "      <td>NaN</td>\n",
              "      <td>C</td>\n",
              "    </tr>\n",
              "    <tr>\n",
              "      <th>27</th>\n",
              "      <td>28</td>\n",
              "      <td>0</td>\n",
              "      <td>1</td>\n",
              "      <td>Fortune, Mr. Charles Alexander</td>\n",
              "      <td>male</td>\n",
              "      <td>19.00</td>\n",
              "      <td>3</td>\n",
              "      <td>2</td>\n",
              "      <td>19950</td>\n",
              "      <td>263.0000</td>\n",
              "      <td>C23 C25 C27</td>\n",
              "      <td>S</td>\n",
              "    </tr>\n",
              "    <tr>\n",
              "      <th>28</th>\n",
              "      <td>29</td>\n",
              "      <td>1</td>\n",
              "      <td>3</td>\n",
              "      <td>O'Dwyer, Miss. Ellen \"Nellie\"</td>\n",
              "      <td>female</td>\n",
              "      <td>NaN</td>\n",
              "      <td>0</td>\n",
              "      <td>0</td>\n",
              "      <td>330959</td>\n",
              "      <td>7.8792</td>\n",
              "      <td>NaN</td>\n",
              "      <td>Q</td>\n",
              "    </tr>\n",
              "    <tr>\n",
              "      <th>29</th>\n",
              "      <td>30</td>\n",
              "      <td>0</td>\n",
              "      <td>3</td>\n",
              "      <td>Todoroff, Mr. Lalio</td>\n",
              "      <td>male</td>\n",
              "      <td>NaN</td>\n",
              "      <td>0</td>\n",
              "      <td>0</td>\n",
              "      <td>349216</td>\n",
              "      <td>7.8958</td>\n",
              "      <td>NaN</td>\n",
              "      <td>S</td>\n",
              "    </tr>\n",
              "    <tr>\n",
              "      <th>...</th>\n",
              "      <td>...</td>\n",
              "      <td>...</td>\n",
              "      <td>...</td>\n",
              "      <td>...</td>\n",
              "      <td>...</td>\n",
              "      <td>...</td>\n",
              "      <td>...</td>\n",
              "      <td>...</td>\n",
              "      <td>...</td>\n",
              "      <td>...</td>\n",
              "      <td>...</td>\n",
              "      <td>...</td>\n",
              "    </tr>\n",
              "    <tr>\n",
              "      <th>70</th>\n",
              "      <td>71</td>\n",
              "      <td>0</td>\n",
              "      <td>2</td>\n",
              "      <td>Jenkin, Mr. Stephen Curnow</td>\n",
              "      <td>male</td>\n",
              "      <td>32.00</td>\n",
              "      <td>0</td>\n",
              "      <td>0</td>\n",
              "      <td>C.A. 33111</td>\n",
              "      <td>10.5000</td>\n",
              "      <td>NaN</td>\n",
              "      <td>S</td>\n",
              "    </tr>\n",
              "    <tr>\n",
              "      <th>71</th>\n",
              "      <td>72</td>\n",
              "      <td>0</td>\n",
              "      <td>3</td>\n",
              "      <td>Goodwin, Miss. Lillian Amy</td>\n",
              "      <td>female</td>\n",
              "      <td>16.00</td>\n",
              "      <td>5</td>\n",
              "      <td>2</td>\n",
              "      <td>CA 2144</td>\n",
              "      <td>46.9000</td>\n",
              "      <td>NaN</td>\n",
              "      <td>S</td>\n",
              "    </tr>\n",
              "    <tr>\n",
              "      <th>72</th>\n",
              "      <td>73</td>\n",
              "      <td>0</td>\n",
              "      <td>2</td>\n",
              "      <td>Hood, Mr. Ambrose Jr</td>\n",
              "      <td>male</td>\n",
              "      <td>21.00</td>\n",
              "      <td>0</td>\n",
              "      <td>0</td>\n",
              "      <td>S.O.C. 14879</td>\n",
              "      <td>73.5000</td>\n",
              "      <td>NaN</td>\n",
              "      <td>S</td>\n",
              "    </tr>\n",
              "    <tr>\n",
              "      <th>73</th>\n",
              "      <td>74</td>\n",
              "      <td>0</td>\n",
              "      <td>3</td>\n",
              "      <td>Chronopoulos, Mr. Apostolos</td>\n",
              "      <td>male</td>\n",
              "      <td>26.00</td>\n",
              "      <td>1</td>\n",
              "      <td>0</td>\n",
              "      <td>2680</td>\n",
              "      <td>14.4542</td>\n",
              "      <td>NaN</td>\n",
              "      <td>C</td>\n",
              "    </tr>\n",
              "    <tr>\n",
              "      <th>74</th>\n",
              "      <td>75</td>\n",
              "      <td>1</td>\n",
              "      <td>3</td>\n",
              "      <td>Bing, Mr. Lee</td>\n",
              "      <td>male</td>\n",
              "      <td>32.00</td>\n",
              "      <td>0</td>\n",
              "      <td>0</td>\n",
              "      <td>1601</td>\n",
              "      <td>56.4958</td>\n",
              "      <td>NaN</td>\n",
              "      <td>S</td>\n",
              "    </tr>\n",
              "    <tr>\n",
              "      <th>75</th>\n",
              "      <td>76</td>\n",
              "      <td>0</td>\n",
              "      <td>3</td>\n",
              "      <td>Moen, Mr. Sigurd Hansen</td>\n",
              "      <td>male</td>\n",
              "      <td>25.00</td>\n",
              "      <td>0</td>\n",
              "      <td>0</td>\n",
              "      <td>348123</td>\n",
              "      <td>7.6500</td>\n",
              "      <td>F G73</td>\n",
              "      <td>S</td>\n",
              "    </tr>\n",
              "    <tr>\n",
              "      <th>76</th>\n",
              "      <td>77</td>\n",
              "      <td>0</td>\n",
              "      <td>3</td>\n",
              "      <td>Staneff, Mr. Ivan</td>\n",
              "      <td>male</td>\n",
              "      <td>NaN</td>\n",
              "      <td>0</td>\n",
              "      <td>0</td>\n",
              "      <td>349208</td>\n",
              "      <td>7.8958</td>\n",
              "      <td>NaN</td>\n",
              "      <td>S</td>\n",
              "    </tr>\n",
              "    <tr>\n",
              "      <th>77</th>\n",
              "      <td>78</td>\n",
              "      <td>0</td>\n",
              "      <td>3</td>\n",
              "      <td>Moutal, Mr. Rahamin Haim</td>\n",
              "      <td>male</td>\n",
              "      <td>NaN</td>\n",
              "      <td>0</td>\n",
              "      <td>0</td>\n",
              "      <td>374746</td>\n",
              "      <td>8.0500</td>\n",
              "      <td>NaN</td>\n",
              "      <td>S</td>\n",
              "    </tr>\n",
              "    <tr>\n",
              "      <th>78</th>\n",
              "      <td>79</td>\n",
              "      <td>1</td>\n",
              "      <td>2</td>\n",
              "      <td>Caldwell, Master. Alden Gates</td>\n",
              "      <td>male</td>\n",
              "      <td>0.83</td>\n",
              "      <td>0</td>\n",
              "      <td>2</td>\n",
              "      <td>248738</td>\n",
              "      <td>29.0000</td>\n",
              "      <td>NaN</td>\n",
              "      <td>S</td>\n",
              "    </tr>\n",
              "    <tr>\n",
              "      <th>79</th>\n",
              "      <td>80</td>\n",
              "      <td>1</td>\n",
              "      <td>3</td>\n",
              "      <td>Dowdell, Miss. Elizabeth</td>\n",
              "      <td>female</td>\n",
              "      <td>30.00</td>\n",
              "      <td>0</td>\n",
              "      <td>0</td>\n",
              "      <td>364516</td>\n",
              "      <td>12.4750</td>\n",
              "      <td>NaN</td>\n",
              "      <td>S</td>\n",
              "    </tr>\n",
              "    <tr>\n",
              "      <th>80</th>\n",
              "      <td>81</td>\n",
              "      <td>0</td>\n",
              "      <td>3</td>\n",
              "      <td>Waelens, Mr. Achille</td>\n",
              "      <td>male</td>\n",
              "      <td>22.00</td>\n",
              "      <td>0</td>\n",
              "      <td>0</td>\n",
              "      <td>345767</td>\n",
              "      <td>9.0000</td>\n",
              "      <td>NaN</td>\n",
              "      <td>S</td>\n",
              "    </tr>\n",
              "    <tr>\n",
              "      <th>81</th>\n",
              "      <td>82</td>\n",
              "      <td>1</td>\n",
              "      <td>3</td>\n",
              "      <td>Sheerlinck, Mr. Jan Baptist</td>\n",
              "      <td>male</td>\n",
              "      <td>29.00</td>\n",
              "      <td>0</td>\n",
              "      <td>0</td>\n",
              "      <td>345779</td>\n",
              "      <td>9.5000</td>\n",
              "      <td>NaN</td>\n",
              "      <td>S</td>\n",
              "    </tr>\n",
              "    <tr>\n",
              "      <th>82</th>\n",
              "      <td>83</td>\n",
              "      <td>1</td>\n",
              "      <td>3</td>\n",
              "      <td>McDermott, Miss. Brigdet Delia</td>\n",
              "      <td>female</td>\n",
              "      <td>NaN</td>\n",
              "      <td>0</td>\n",
              "      <td>0</td>\n",
              "      <td>330932</td>\n",
              "      <td>7.7875</td>\n",
              "      <td>NaN</td>\n",
              "      <td>Q</td>\n",
              "    </tr>\n",
              "    <tr>\n",
              "      <th>83</th>\n",
              "      <td>84</td>\n",
              "      <td>0</td>\n",
              "      <td>1</td>\n",
              "      <td>Carrau, Mr. Francisco M</td>\n",
              "      <td>male</td>\n",
              "      <td>28.00</td>\n",
              "      <td>0</td>\n",
              "      <td>0</td>\n",
              "      <td>113059</td>\n",
              "      <td>47.1000</td>\n",
              "      <td>NaN</td>\n",
              "      <td>S</td>\n",
              "    </tr>\n",
              "    <tr>\n",
              "      <th>84</th>\n",
              "      <td>85</td>\n",
              "      <td>1</td>\n",
              "      <td>2</td>\n",
              "      <td>Ilett, Miss. Bertha</td>\n",
              "      <td>female</td>\n",
              "      <td>17.00</td>\n",
              "      <td>0</td>\n",
              "      <td>0</td>\n",
              "      <td>SO/C 14885</td>\n",
              "      <td>10.5000</td>\n",
              "      <td>NaN</td>\n",
              "      <td>S</td>\n",
              "    </tr>\n",
              "    <tr>\n",
              "      <th>85</th>\n",
              "      <td>86</td>\n",
              "      <td>1</td>\n",
              "      <td>3</td>\n",
              "      <td>Backstrom, Mrs. Karl Alfred (Maria Mathilda Gu...</td>\n",
              "      <td>female</td>\n",
              "      <td>33.00</td>\n",
              "      <td>3</td>\n",
              "      <td>0</td>\n",
              "      <td>3101278</td>\n",
              "      <td>15.8500</td>\n",
              "      <td>NaN</td>\n",
              "      <td>S</td>\n",
              "    </tr>\n",
              "    <tr>\n",
              "      <th>86</th>\n",
              "      <td>87</td>\n",
              "      <td>0</td>\n",
              "      <td>3</td>\n",
              "      <td>Ford, Mr. William Neal</td>\n",
              "      <td>male</td>\n",
              "      <td>16.00</td>\n",
              "      <td>1</td>\n",
              "      <td>3</td>\n",
              "      <td>W./C. 6608</td>\n",
              "      <td>34.3750</td>\n",
              "      <td>NaN</td>\n",
              "      <td>S</td>\n",
              "    </tr>\n",
              "    <tr>\n",
              "      <th>87</th>\n",
              "      <td>88</td>\n",
              "      <td>0</td>\n",
              "      <td>3</td>\n",
              "      <td>Slocovski, Mr. Selman Francis</td>\n",
              "      <td>male</td>\n",
              "      <td>NaN</td>\n",
              "      <td>0</td>\n",
              "      <td>0</td>\n",
              "      <td>SOTON/OQ 392086</td>\n",
              "      <td>8.0500</td>\n",
              "      <td>NaN</td>\n",
              "      <td>S</td>\n",
              "    </tr>\n",
              "    <tr>\n",
              "      <th>88</th>\n",
              "      <td>89</td>\n",
              "      <td>1</td>\n",
              "      <td>1</td>\n",
              "      <td>Fortune, Miss. Mabel Helen</td>\n",
              "      <td>female</td>\n",
              "      <td>23.00</td>\n",
              "      <td>3</td>\n",
              "      <td>2</td>\n",
              "      <td>19950</td>\n",
              "      <td>263.0000</td>\n",
              "      <td>C23 C25 C27</td>\n",
              "      <td>S</td>\n",
              "    </tr>\n",
              "    <tr>\n",
              "      <th>89</th>\n",
              "      <td>90</td>\n",
              "      <td>0</td>\n",
              "      <td>3</td>\n",
              "      <td>Celotti, Mr. Francesco</td>\n",
              "      <td>male</td>\n",
              "      <td>24.00</td>\n",
              "      <td>0</td>\n",
              "      <td>0</td>\n",
              "      <td>343275</td>\n",
              "      <td>8.0500</td>\n",
              "      <td>NaN</td>\n",
              "      <td>S</td>\n",
              "    </tr>\n",
              "    <tr>\n",
              "      <th>90</th>\n",
              "      <td>91</td>\n",
              "      <td>0</td>\n",
              "      <td>3</td>\n",
              "      <td>Christmann, Mr. Emil</td>\n",
              "      <td>male</td>\n",
              "      <td>29.00</td>\n",
              "      <td>0</td>\n",
              "      <td>0</td>\n",
              "      <td>343276</td>\n",
              "      <td>8.0500</td>\n",
              "      <td>NaN</td>\n",
              "      <td>S</td>\n",
              "    </tr>\n",
              "    <tr>\n",
              "      <th>91</th>\n",
              "      <td>92</td>\n",
              "      <td>0</td>\n",
              "      <td>3</td>\n",
              "      <td>Andreasson, Mr. Paul Edvin</td>\n",
              "      <td>male</td>\n",
              "      <td>20.00</td>\n",
              "      <td>0</td>\n",
              "      <td>0</td>\n",
              "      <td>347466</td>\n",
              "      <td>7.8542</td>\n",
              "      <td>NaN</td>\n",
              "      <td>S</td>\n",
              "    </tr>\n",
              "    <tr>\n",
              "      <th>92</th>\n",
              "      <td>93</td>\n",
              "      <td>0</td>\n",
              "      <td>1</td>\n",
              "      <td>Chaffee, Mr. Herbert Fuller</td>\n",
              "      <td>male</td>\n",
              "      <td>46.00</td>\n",
              "      <td>1</td>\n",
              "      <td>0</td>\n",
              "      <td>W.E.P. 5734</td>\n",
              "      <td>61.1750</td>\n",
              "      <td>E31</td>\n",
              "      <td>S</td>\n",
              "    </tr>\n",
              "    <tr>\n",
              "      <th>93</th>\n",
              "      <td>94</td>\n",
              "      <td>0</td>\n",
              "      <td>3</td>\n",
              "      <td>Dean, Mr. Bertram Frank</td>\n",
              "      <td>male</td>\n",
              "      <td>26.00</td>\n",
              "      <td>1</td>\n",
              "      <td>2</td>\n",
              "      <td>C.A. 2315</td>\n",
              "      <td>20.5750</td>\n",
              "      <td>NaN</td>\n",
              "      <td>S</td>\n",
              "    </tr>\n",
              "    <tr>\n",
              "      <th>94</th>\n",
              "      <td>95</td>\n",
              "      <td>0</td>\n",
              "      <td>3</td>\n",
              "      <td>Coxon, Mr. Daniel</td>\n",
              "      <td>male</td>\n",
              "      <td>59.00</td>\n",
              "      <td>0</td>\n",
              "      <td>0</td>\n",
              "      <td>364500</td>\n",
              "      <td>7.2500</td>\n",
              "      <td>NaN</td>\n",
              "      <td>S</td>\n",
              "    </tr>\n",
              "    <tr>\n",
              "      <th>95</th>\n",
              "      <td>96</td>\n",
              "      <td>0</td>\n",
              "      <td>3</td>\n",
              "      <td>Shorney, Mr. Charles Joseph</td>\n",
              "      <td>male</td>\n",
              "      <td>NaN</td>\n",
              "      <td>0</td>\n",
              "      <td>0</td>\n",
              "      <td>374910</td>\n",
              "      <td>8.0500</td>\n",
              "      <td>NaN</td>\n",
              "      <td>S</td>\n",
              "    </tr>\n",
              "    <tr>\n",
              "      <th>96</th>\n",
              "      <td>97</td>\n",
              "      <td>0</td>\n",
              "      <td>1</td>\n",
              "      <td>Goldschmidt, Mr. George B</td>\n",
              "      <td>male</td>\n",
              "      <td>71.00</td>\n",
              "      <td>0</td>\n",
              "      <td>0</td>\n",
              "      <td>PC 17754</td>\n",
              "      <td>34.6542</td>\n",
              "      <td>A5</td>\n",
              "      <td>C</td>\n",
              "    </tr>\n",
              "    <tr>\n",
              "      <th>97</th>\n",
              "      <td>98</td>\n",
              "      <td>1</td>\n",
              "      <td>1</td>\n",
              "      <td>Greenfield, Mr. William Bertram</td>\n",
              "      <td>male</td>\n",
              "      <td>23.00</td>\n",
              "      <td>0</td>\n",
              "      <td>1</td>\n",
              "      <td>PC 17759</td>\n",
              "      <td>63.3583</td>\n",
              "      <td>D10 D12</td>\n",
              "      <td>C</td>\n",
              "    </tr>\n",
              "    <tr>\n",
              "      <th>98</th>\n",
              "      <td>99</td>\n",
              "      <td>1</td>\n",
              "      <td>2</td>\n",
              "      <td>Doling, Mrs. John T (Ada Julia Bone)</td>\n",
              "      <td>female</td>\n",
              "      <td>34.00</td>\n",
              "      <td>0</td>\n",
              "      <td>1</td>\n",
              "      <td>231919</td>\n",
              "      <td>23.0000</td>\n",
              "      <td>NaN</td>\n",
              "      <td>S</td>\n",
              "    </tr>\n",
              "    <tr>\n",
              "      <th>99</th>\n",
              "      <td>100</td>\n",
              "      <td>0</td>\n",
              "      <td>2</td>\n",
              "      <td>Kantor, Mr. Sinai</td>\n",
              "      <td>male</td>\n",
              "      <td>34.00</td>\n",
              "      <td>1</td>\n",
              "      <td>0</td>\n",
              "      <td>244367</td>\n",
              "      <td>26.0000</td>\n",
              "      <td>NaN</td>\n",
              "      <td>S</td>\n",
              "    </tr>\n",
              "  </tbody>\n",
              "</table>\n",
              "<p>100 rows × 12 columns</p>\n",
              "</div>"
            ],
            "text/plain": [
              "    PassengerId  Survived  Pclass  ...      Fare        Cabin  Embarked\n",
              "0             1         0       3  ...    7.2500          NaN         S\n",
              "1             2         1       1  ...   71.2833          C85         C\n",
              "2             3         1       3  ...    7.9250          NaN         S\n",
              "3             4         1       1  ...   53.1000         C123         S\n",
              "4             5         0       3  ...    8.0500          NaN         S\n",
              "5             6         0       3  ...    8.4583          NaN         Q\n",
              "6             7         0       1  ...   51.8625          E46         S\n",
              "7             8         0       3  ...   21.0750          NaN         S\n",
              "8             9         1       3  ...   11.1333          NaN         S\n",
              "9            10         1       2  ...   30.0708          NaN         C\n",
              "10           11         1       3  ...   16.7000           G6         S\n",
              "11           12         1       1  ...   26.5500         C103         S\n",
              "12           13         0       3  ...    8.0500          NaN         S\n",
              "13           14         0       3  ...   31.2750          NaN         S\n",
              "14           15         0       3  ...    7.8542          NaN         S\n",
              "15           16         1       2  ...   16.0000          NaN         S\n",
              "16           17         0       3  ...   29.1250          NaN         Q\n",
              "17           18         1       2  ...   13.0000          NaN         S\n",
              "18           19         0       3  ...   18.0000          NaN         S\n",
              "19           20         1       3  ...    7.2250          NaN         C\n",
              "20           21         0       2  ...   26.0000          NaN         S\n",
              "21           22         1       2  ...   13.0000          D56         S\n",
              "22           23         1       3  ...    8.0292          NaN         Q\n",
              "23           24         1       1  ...   35.5000           A6         S\n",
              "24           25         0       3  ...   21.0750          NaN         S\n",
              "25           26         1       3  ...   31.3875          NaN         S\n",
              "26           27         0       3  ...    7.2250          NaN         C\n",
              "27           28         0       1  ...  263.0000  C23 C25 C27         S\n",
              "28           29         1       3  ...    7.8792          NaN         Q\n",
              "29           30         0       3  ...    7.8958          NaN         S\n",
              "..          ...       ...     ...  ...       ...          ...       ...\n",
              "70           71         0       2  ...   10.5000          NaN         S\n",
              "71           72         0       3  ...   46.9000          NaN         S\n",
              "72           73         0       2  ...   73.5000          NaN         S\n",
              "73           74         0       3  ...   14.4542          NaN         C\n",
              "74           75         1       3  ...   56.4958          NaN         S\n",
              "75           76         0       3  ...    7.6500        F G73         S\n",
              "76           77         0       3  ...    7.8958          NaN         S\n",
              "77           78         0       3  ...    8.0500          NaN         S\n",
              "78           79         1       2  ...   29.0000          NaN         S\n",
              "79           80         1       3  ...   12.4750          NaN         S\n",
              "80           81         0       3  ...    9.0000          NaN         S\n",
              "81           82         1       3  ...    9.5000          NaN         S\n",
              "82           83         1       3  ...    7.7875          NaN         Q\n",
              "83           84         0       1  ...   47.1000          NaN         S\n",
              "84           85         1       2  ...   10.5000          NaN         S\n",
              "85           86         1       3  ...   15.8500          NaN         S\n",
              "86           87         0       3  ...   34.3750          NaN         S\n",
              "87           88         0       3  ...    8.0500          NaN         S\n",
              "88           89         1       1  ...  263.0000  C23 C25 C27         S\n",
              "89           90         0       3  ...    8.0500          NaN         S\n",
              "90           91         0       3  ...    8.0500          NaN         S\n",
              "91           92         0       3  ...    7.8542          NaN         S\n",
              "92           93         0       1  ...   61.1750          E31         S\n",
              "93           94         0       3  ...   20.5750          NaN         S\n",
              "94           95         0       3  ...    7.2500          NaN         S\n",
              "95           96         0       3  ...    8.0500          NaN         S\n",
              "96           97         0       1  ...   34.6542           A5         C\n",
              "97           98         1       1  ...   63.3583      D10 D12         C\n",
              "98           99         1       2  ...   23.0000          NaN         S\n",
              "99          100         0       2  ...   26.0000          NaN         S\n",
              "\n",
              "[100 rows x 12 columns]"
            ]
          },
          "metadata": {
            "tags": []
          },
          "execution_count": 7
        }
      ]
    },
    {
      "cell_type": "markdown",
      "metadata": {
        "id": "0aqhkBJDAPxv",
        "colab_type": "text"
      },
      "source": [
        "#Size of the Dataset"
      ]
    },
    {
      "cell_type": "code",
      "metadata": {
        "id": "YxFWMxHvAWbD",
        "colab_type": "code",
        "outputId": "f721e38a-8a3f-4855-dd95-0fe97b7013b5",
        "colab": {
          "base_uri": "https://localhost:8080/",
          "height": 34
        }
      },
      "source": [
        "titanic_df.shape"
      ],
      "execution_count": 8,
      "outputs": [
        {
          "output_type": "execute_result",
          "data": {
            "text/plain": [
              "(891, 12)"
            ]
          },
          "metadata": {
            "tags": []
          },
          "execution_count": 8
        }
      ]
    },
    {
      "cell_type": "markdown",
      "metadata": {
        "id": "nBc7eosQAlg0",
        "colab_type": "text"
      },
      "source": [
        "#Overview of the dataset\n"
      ]
    },
    {
      "cell_type": "code",
      "metadata": {
        "id": "UBWff_izA-TL",
        "colab_type": "code",
        "outputId": "d7f5e0a9-8152-4d21-9e2e-15e748f56428",
        "colab": {
          "base_uri": "https://localhost:8080/",
          "height": 306
        }
      },
      "source": [
        "titanic_df.info()\n"
      ],
      "execution_count": 9,
      "outputs": [
        {
          "output_type": "stream",
          "text": [
            "<class 'pandas.core.frame.DataFrame'>\n",
            "RangeIndex: 891 entries, 0 to 890\n",
            "Data columns (total 12 columns):\n",
            "PassengerId    891 non-null int64\n",
            "Survived       891 non-null int64\n",
            "Pclass         891 non-null int64\n",
            "Name           891 non-null object\n",
            "Sex            891 non-null object\n",
            "Age            714 non-null float64\n",
            "SibSp          891 non-null int64\n",
            "Parch          891 non-null int64\n",
            "Ticket         891 non-null object\n",
            "Fare           891 non-null float64\n",
            "Cabin          204 non-null object\n",
            "Embarked       889 non-null object\n",
            "dtypes: float64(2), int64(5), object(5)\n",
            "memory usage: 83.6+ KB\n"
          ],
          "name": "stdout"
        }
      ]
    },
    {
      "cell_type": "markdown",
      "metadata": {
        "id": "uSP0omSiBChF",
        "colab_type": "text"
      },
      "source": [
        "Here we can see that for the Cabin feature, most of the values (about 70%) are missing; hence, we can remove this feature"
      ]
    },
    {
      "cell_type": "markdown",
      "metadata": {
        "id": "hCYHaOf4BJ0I",
        "colab_type": "text"
      },
      "source": [
        "#Handle the missing data\n",
        "\n",
        "\n",
        "\n",
        "1.   Delete the Cabin feature as mentioned above\n",
        "2.   Embarked feature has only three missing values. Since this is a categorical variable, we can replace missing data with mode value, or in other words, we can fill the missing values with the most common embarkment value.\n",
        "\n",
        "\n"
      ]
    },
    {
      "cell_type": "code",
      "metadata": {
        "id": "bMBH8LA3B3lj",
        "colab_type": "code",
        "outputId": "38e980b7-58df-4c5c-808f-c95b39b04e7b",
        "colab": {
          "base_uri": "https://localhost:8080/",
          "height": 310
        }
      },
      "source": [
        "ax = titanic_df['Embarked'].value_counts().plot(kind='bar', alpha = 0.7)\n",
        "rects = ax.patches\n",
        "labels = [\"%d\" % i for i in range(len(rects))]\n",
        "for rect, label in zip(rects, labels):\n",
        "  height = rect.get_height()\n",
        "  ax.text(rect.get_x() + rect.get_width() / 2, height + 5, height, ha='center', va='bottom')\n",
        "plt.title('Embarked Distribution')\n",
        "plt.xlabel('Embarked')\n",
        "plt.ylabel('Frequency')"
      ],
      "execution_count": 10,
      "outputs": [
        {
          "output_type": "execute_result",
          "data": {
            "text/plain": [
              "Text(0, 0.5, 'Frequency')"
            ]
          },
          "metadata": {
            "tags": []
          },
          "execution_count": 10
        },
        {
          "output_type": "display_data",
          "data": {
            "image/png": "[encoded data removed]",
            "text/plain": [
              "<Figure size 432x288 with 1 Axes>"
            ]
          },
          "metadata": {
            "tags": []
          }
        }
      ]
    },
    {
      "cell_type": "markdown",
      "metadata": {
        "id": "ugpaO88KDKaF",
        "colab_type": "text"
      },
      "source": [
        "We can see that most of the Embarked values belong to S, hence, we can assign the missing values as belonging to S."
      ]
    },
    {
      "cell_type": "code",
      "metadata": {
        "id": "_8nSpdYZDS9V",
        "colab_type": "code",
        "colab": {}
      },
      "source": [
        "titanic_df['Embarked'] = titanic_df['Embarked'].fillna('S')"
      ],
      "execution_count": 0,
      "outputs": []
    },
    {
      "cell_type": "markdown",
      "metadata": {
        "id": "erojoJ8AD3ti",
        "colab_type": "text"
      },
      "source": [
        "Now, we need to focus on the Age feature which has 177 missing values. We can prdeict the missing values using machine learning algorithms. Before predicting, we need to explore thte data to check what other features will help us to predict the age."
      ]
    },
    {
      "cell_type": "markdown",
      "metadata": {
        "id": "S1dyvUjAEaBZ",
        "colab_type": "text"
      },
      "source": [
        "# Data Preparation\n",
        "## Deep dive into data therough exploratory data analysis\n",
        "### Data Visualization"
      ]
    },
    {
      "cell_type": "code",
      "metadata": {
        "id": "wvVKE0ToEyrP",
        "colab_type": "code",
        "outputId": "11950c73-6055-42eb-a289-75c44f318f1f",
        "colab": {
          "base_uri": "https://localhost:8080/",
          "height": 309
        }
      },
      "source": [
        "titanic_df['Survived'].value_counts(normalize=True).plot(kind='bar')\n",
        "plt.title('Survival Distribution')\n",
        "plt.xlabel('Survived')\n",
        "plt.ylabel('Normalized Count')"
      ],
      "execution_count": 13,
      "outputs": [
        {
          "output_type": "execute_result",
          "data": {
            "text/plain": [
              "Text(0, 0.5, 'Normalized Count')"
            ]
          },
          "metadata": {
            "tags": []
          },
          "execution_count": 13
        },
        {
          "output_type": "display_data",
          "data": {
            "image/png": "[encoded data removed]",
            "text/plain": [
              "<Figure size 432x288 with 1 Axes>"
            ]
          },
          "metadata": {
            "tags": []
          }
        }
      ]
    },
    {
      "cell_type": "markdown",
      "metadata": {
        "id": "NCJglSH3_2rC",
        "colab_type": "text"
      },
      "source": [
        "The chances of dying on the Titanic was 60 percent!"
      ]
    },
    {
      "cell_type": "code",
      "metadata": {
        "id": "NDa9nIk7_9r6",
        "colab_type": "code",
        "outputId": "091b6909-13fe-494a-8582-ac53ebd4bea3",
        "colab": {
          "base_uri": "https://localhost:8080/",
          "height": 309
        }
      },
      "source": [
        "titanic_df['Pclass'].value_counts(normalize=True).plot(kind='bar')\n",
        "plt.title('Ticket Class Distribution')\n",
        "plt.xlabel('Passenger Classes')\n",
        "plt.ylabel('Normalized Count')"
      ],
      "execution_count": 14,
      "outputs": [
        {
          "output_type": "execute_result",
          "data": {
            "text/plain": [
              "Text(0, 0.5, 'Normalized Count')"
            ]
          },
          "metadata": {
            "tags": []
          },
          "execution_count": 14
        },
        {
          "output_type": "display_data",
          "data": {
            "image/png": "[encoded data removed]",
            "text/plain": [
              "<Figure size 432x288 with 1 Axes>"
            ]
          },
          "metadata": {
            "tags": []
          }
        }
      ]
    },
    {
      "cell_type": "markdown",
      "metadata": {
        "id": "p894ifSLAbTG",
        "colab_type": "text"
      },
      "source": [
        "More than 55 percent of the passengers belonged to the 3rd class"
      ]
    },
    {
      "cell_type": "code",
      "metadata": {
        "id": "teJLvMlBAi7y",
        "colab_type": "code",
        "outputId": "b7ba6c82-2ffd-4406-8d41-e63c10513edb",
        "colab": {
          "base_uri": "https://localhost:8080/",
          "height": 337
        }
      },
      "source": [
        "titanic_df['Sex'].value_counts(normalize=True).plot(kind='bar', color='magenta')\n",
        "plt.title(\"Gender distribution\")\n",
        "plt.xlabel('Sex')\n",
        "plt.ylabel('Normalized Count')"
      ],
      "execution_count": 15,
      "outputs": [
        {
          "output_type": "execute_result",
          "data": {
            "text/plain": [
              "Text(0, 0.5, 'Normalized Count')"
            ]
          },
          "metadata": {
            "tags": []
          },
          "execution_count": 15
        },
        {
          "output_type": "display_data",
          "data": {
            "image/png": "[encoded data removed]",
            "text/plain": [
              "<Figure size 432x288 with 1 Axes>"
            ]
          },
          "metadata": {
            "tags": []
          }
        }
      ]
    },
    {
      "cell_type": "markdown",
      "metadata": {
        "id": "VnAr5eyZBDCb",
        "colab_type": "text"
      },
      "source": [
        "Almost 65 percent of the pasengers were men."
      ]
    },
    {
      "cell_type": "code",
      "metadata": {
        "id": "PHlUT_fMBJyZ",
        "colab_type": "code",
        "outputId": "89b6b664-e302-4f9e-e248-6afa4523308c",
        "colab": {
          "base_uri": "https://localhost:8080/",
          "height": 309
        }
      },
      "source": [
        "titanic_df['SibSp'].value_counts(normalize=True).plot(kind='bar', alpha=0.5)\n",
        "plt.title(\"No. of siblings/spouses distribution\")\n",
        "plt.xlabel('Sibling/Spouse Count')\n",
        "plt.ylabel('Normalized Count')"
      ],
      "execution_count": 16,
      "outputs": [
        {
          "output_type": "execute_result",
          "data": {
            "text/plain": [
              "Text(0, 0.5, 'Normalized Count')"
            ]
          },
          "metadata": {
            "tags": []
          },
          "execution_count": 16
        },
        {
          "output_type": "display_data",
          "data": {
            "image/png": "[encoded data removed]",
            "text/plain": [
              "<Figure size 432x288 with 1 Axes>"
            ]
          },
          "metadata": {
            "tags": []
          }
        }
      ]
    },
    {
      "cell_type": "markdown",
      "metadata": {
        "id": "aa0CU8BjCBSe",
        "colab_type": "text"
      },
      "source": [
        "Almost 70 percent of the passengers were travelling alone."
      ]
    },
    {
      "cell_type": "code",
      "metadata": {
        "id": "R67JWMg3CJzk",
        "colab_type": "code",
        "outputId": "afddc9a6-8063-4b8f-d547-bdccd5428621",
        "colab": {
          "base_uri": "https://localhost:8080/",
          "height": 309
        }
      },
      "source": [
        "titanic_df['Parch'].value_counts(normalize=True).plot(kind='bar', alpha = 0.7)\n",
        "plt.title(\"No. of Parents/Children distribution\")\n",
        "plt.xlabel(\"Parent/Child Count\")\n",
        "plt.ylabel(\"Normalized Count\")"
      ],
      "execution_count": 17,
      "outputs": [
        {
          "output_type": "execute_result",
          "data": {
            "text/plain": [
              "Text(0, 0.5, 'Normalized Count')"
            ]
          },
          "metadata": {
            "tags": []
          },
          "execution_count": 17
        },
        {
          "output_type": "display_data",
          "data": {
            "image/png": "[encoded data removed]",
            "text/plain": [
              "<Figure size 432x288 with 1 Axes>"
            ]
          },
          "metadata": {
            "tags": []
          }
        }
      ]
    },
    {
      "cell_type": "markdown",
      "metadata": {
        "id": "1mcM_WsvCpUK",
        "colab_type": "text"
      },
      "source": [
        "Around 75 percent of the passengers did not have a parent or a child with them."
      ]
    },
    {
      "cell_type": "code",
      "metadata": {
        "id": "q1KA-MOQCwwj",
        "colab_type": "code",
        "outputId": "2050e1b6-09be-4a9b-a6b6-0e39ce9332af",
        "colab": {
          "base_uri": "https://localhost:8080/",
          "height": 312
        }
      },
      "source": [
        "titanic_df['Age'].plot(kind='hist', color='orange', edgecolor='black')\n",
        "plt.title('Age Distribution')\n",
        "plt.xlabel('Age Range')\n",
        "plt.ylabel('Frequency')"
      ],
      "execution_count": 18,
      "outputs": [
        {
          "output_type": "execute_result",
          "data": {
            "text/plain": [
              "Text(0, 0.5, 'Frequency')"
            ]
          },
          "metadata": {
            "tags": []
          },
          "execution_count": 18
        },
        {
          "output_type": "display_data",
          "data": {
            "image/png": "[encoded data removed]",
            "text/plain": [
              "<Figure size 432x288 with 1 Axes>"
            ]
          },
          "metadata": {
            "tags": []
          }
        }
      ]
    },
    {
      "cell_type": "markdown",
      "metadata": {
        "id": "RLlC1y6KEPrX",
        "colab_type": "text"
      },
      "source": [
        "Since age is a continuous variable, we used a histogram for this purpose. It looks like most passengers were between 18-30 years old. "
      ]
    },
    {
      "cell_type": "code",
      "metadata": {
        "id": "d9M8x4bkEbFh",
        "colab_type": "code",
        "outputId": "d2a72732-0119-467a-f0dc-d7261b8e1b6f",
        "colab": {
          "base_uri": "https://localhost:8080/",
          "height": 312
        }
      },
      "source": [
        "titanic_df['Fare'].plot(kind='hist', color='orange', edgecolor='black')\n",
        "plt.title('Fare Distribution')\n",
        "plt.xlabel('Fare Range')\n",
        "plt.ylabel('Frequency')"
      ],
      "execution_count": 19,
      "outputs": [
        {
          "output_type": "execute_result",
          "data": {
            "text/plain": [
              "Text(0, 0.5, 'Frequency')"
            ]
          },
          "metadata": {
            "tags": []
          },
          "execution_count": 19
        },
        {
          "output_type": "display_data",
          "data": {
            "image/png": "[encoded data removed]",
            "text/plain": [
              "<Figure size 432x288 with 1 Axes>"
            ]
          },
          "metadata": {
            "tags": []
          }
        }
      ]
    },
    {
      "cell_type": "markdown",
      "metadata": {
        "id": "N8AjMMlEE5It",
        "colab_type": "text"
      },
      "source": [
        "Most tickets sold were within the range of 0-50.\n"
      ]
    },
    {
      "cell_type": "markdown",
      "metadata": {
        "id": "IDAcG-qLFYXw",
        "colab_type": "text"
      },
      "source": [
        "##Now we analyze how the age variable depends on other features"
      ]
    },
    {
      "cell_type": "code",
      "metadata": {
        "id": "3LE0_CmDFe4e",
        "colab_type": "code",
        "outputId": "1f089337-9a00-4e93-f6fa-c302eb19536d",
        "colab": {
          "base_uri": "https://localhost:8080/",
          "height": 407
        }
      },
      "source": [
        "fig = plt.figure(figsize=(18, 6))\n",
        "plt.subplots_adjust(hspace=.5)\n",
        "\n",
        "plt.subplot2grid((3,3), (0,0))\n",
        "titanic_df['Age'][(titanic_df[\"Sex\"]=='male')].plot(kind='hist', color='orange', edgecolor='black')\n",
        "plt.title('Age vs Male')\n",
        "plt.subplot2grid((3,3), (0,1))\n",
        "titanic_df['Age'][(titanic_df[\"Sex\"]=='female')].plot(kind='hist',  color='orange', edgecolor='black')\n",
        "plt.title('Age vs Female')\n",
        "plt.subplot2grid((3,3), (1,0))\n",
        "titanic_df['Age'][(titanic_df[\"Sex\"]=='male') & (titanic_df['Pclass']==1)].plot(kind='hist',  color='orange', edgecolor='black')\n",
        "plt.title('Age vs Male vs Class 1')\n",
        "plt.subplot2grid((3,3), (1,1))\n",
        "titanic_df['Age'][(titanic_df[\"Sex\"]=='male') & (titanic_df['Pclass']==2)].plot(kind='hist',  color='orange', edgecolor='black')\n",
        "plt.title('Age vs Male vs Class 2')\n",
        "plt.subplot2grid((3,3), (1,2))\n",
        "titanic_df['Age'][(titanic_df[\"Sex\"]=='male') & (titanic_df['Pclass']==3)].plot(kind='hist',  color='orange', edgecolor='black')\n",
        "plt.title('Age vs Male vs Class 3')\n",
        "plt.subplot2grid((3,3), (2,0))\n",
        "titanic_df['Age'][(titanic_df[\"Sex\"]=='female') & (titanic_df['Pclass']==1)].plot(kind='hist',  color='orange', edgecolor='black')\n",
        "plt.title('Age vs Female vs Class 1')\n",
        "plt.subplot2grid((3,3), (2,1))\n",
        "titanic_df['Age'][(titanic_df[\"Sex\"]=='female') & (titanic_df['Pclass']==2)].plot(kind='hist',  color='orange', edgecolor='black')\n",
        "plt.title('Age vs Female vs Class 2')\n",
        "plt.subplot2grid((3,3), (2,2))\n",
        "titanic_df['Age'][(titanic_df[\"Sex\"]=='female') & (titanic_df['Pclass']==3)].plot(kind='hist', color='orange', edgecolor='black')\n",
        "plt.title('Age vs Female vs Class 3')\n",
        "\n",
        "\n",
        "\n",
        "        \n"
      ],
      "execution_count": 0,
      "outputs": [
        {
          "output_type": "execute_result",
          "data": {
            "text/plain": [
              "Text(0.5, 1.0, 'Age vs Female vs Class 3')"
            ]
          },
          "metadata": {
            "tags": []
          },
          "execution_count": 25
        },
        {
          "output_type": "display_data",
          "data": {
            "image/png": "[encoded data removed]",
            "text/plain": [
              "<Figure size 1296x432 with 8 Axes>"
            ]
          },
          "metadata": {
            "tags": []
          }
        }
      ]
    },
    {
      "cell_type": "markdown",
      "metadata": {
        "id": "rlUWgGGIHb9b",
        "colab_type": "text"
      },
      "source": [
        "The age distribution varies not only with gender but also the passenger class."
      ]
    },
    {
      "cell_type": "markdown",
      "metadata": {
        "id": "YhvTxVvcHrdP",
        "colab_type": "text"
      },
      "source": [
        "We are going to calculate the median age of passengers who are grouped by ticket calss and sex, and assign those median age values to the null values present in those corresponding groups.\n"
      ]
    },
    {
      "cell_type": "code",
      "metadata": {
        "id": "4HoUBpdzH4ry",
        "colab_type": "code",
        "outputId": "abfb89e4-40d0-41cb-c478-0ea6223f05e1",
        "colab": {
          "base_uri": "https://localhost:8080/",
          "height": 1000
        }
      },
      "source": [
        "titanic_df['Age'] = titanic_df.groupby(['Sex', 'Pclass'])['Age'].transform(lambda x: x.fillna(x.median()))\n",
        "titanic_df['Age']"
      ],
      "execution_count": 0,
      "outputs": [
        {
          "output_type": "execute_result",
          "data": {
            "text/plain": [
              "0      22.0\n",
              "1      38.0\n",
              "2      26.0\n",
              "3      35.0\n",
              "4      35.0\n",
              "5      25.0\n",
              "6      54.0\n",
              "7       2.0\n",
              "8      27.0\n",
              "9      14.0\n",
              "10      4.0\n",
              "11     58.0\n",
              "12     20.0\n",
              "13     39.0\n",
              "14     14.0\n",
              "15     55.0\n",
              "16      2.0\n",
              "17     30.0\n",
              "18     31.0\n",
              "19     21.5\n",
              "20     35.0\n",
              "21     34.0\n",
              "22     15.0\n",
              "23     28.0\n",
              "24      8.0\n",
              "25     38.0\n",
              "26     25.0\n",
              "27     19.0\n",
              "28     21.5\n",
              "29     25.0\n",
              "       ... \n",
              "861    21.0\n",
              "862    48.0\n",
              "863    21.5\n",
              "864    24.0\n",
              "865    42.0\n",
              "866    27.0\n",
              "867    31.0\n",
              "868    25.0\n",
              "869     4.0\n",
              "870    26.0\n",
              "871    47.0\n",
              "872    33.0\n",
              "873    47.0\n",
              "874    28.0\n",
              "875    15.0\n",
              "876    20.0\n",
              "877    19.0\n",
              "878    25.0\n",
              "879    56.0\n",
              "880    25.0\n",
              "881    33.0\n",
              "882    22.0\n",
              "883    28.0\n",
              "884    25.0\n",
              "885    39.0\n",
              "886    27.0\n",
              "887    19.0\n",
              "888    21.5\n",
              "889    26.0\n",
              "890    32.0\n",
              "Name: Age, Length: 891, dtype: float64"
            ]
          },
          "metadata": {
            "tags": []
          },
          "execution_count": 28
        }
      ]
    },
    {
      "cell_type": "markdown",
      "metadata": {
        "id": "krS2_jtqIWzH",
        "colab_type": "text"
      },
      "source": [
        "Before, the age for Passenger in row 5 was missing, but now the age has been assigned as 25."
      ]
    },
    {
      "cell_type": "markdown",
      "metadata": {
        "id": "F1Ea9bclIsmG",
        "colab_type": "text"
      },
      "source": [
        "Now, let us compare the survival rates between males and females"
      ]
    },
    {
      "cell_type": "code",
      "metadata": {
        "id": "Dv2276UAIyPO",
        "colab_type": "code",
        "outputId": "e3406a56-6879-4632-a85a-46d651229a0d",
        "colab": {
          "base_uri": "https://localhost:8080/",
          "height": 337
        }
      },
      "source": [
        "titanic_df['Sex'][titanic_df['Survived']==1].value_counts(normalize=True, ascending=True).plot(kind='bar', color='orange', edgecolor='black')\n",
        "plt.title('Survival against gender')\n",
        "plt.xlabel('Sex')\n",
        "plt.ylabel('Survived Frequency (Normalized)')"
      ],
      "execution_count": 0,
      "outputs": [
        {
          "output_type": "execute_result",
          "data": {
            "text/plain": [
              "Text(0, 0.5, 'Survived Frequency (Normalized)')"
            ]
          },
          "metadata": {
            "tags": []
          },
          "execution_count": 29
        },
        {
          "output_type": "display_data",
          "data": {
            "image/png": "[encoded data removed]",
            "text/plain": [
              "<Figure size 432x288 with 1 Axes>"
            ]
          },
          "metadata": {
            "tags": []
          }
        }
      ]
    },
    {
      "cell_type": "markdown",
      "metadata": {
        "id": "IfEbCDTyJTMw",
        "colab_type": "text"
      },
      "source": [
        "As we can see, females had almost 70 percent chance of survival whereas the men poor males had only 30 percent chance of survival."
      ]
    },
    {
      "cell_type": "code",
      "metadata": {
        "id": "QMGCW1-SJjni",
        "colab_type": "code",
        "outputId": "0e0ba3df-5c34-40f6-d031-e086a5a5e85b",
        "colab": {
          "base_uri": "https://localhost:8080/",
          "height": 309
        }
      },
      "source": [
        "titanic_df.groupby(['Survived', 'Pclass']).size().unstack().plot(kind='bar', stacked=True)\n",
        "plt.title('TIcket Class vs Survival')"
      ],
      "execution_count": 0,
      "outputs": [
        {
          "output_type": "execute_result",
          "data": {
            "text/plain": [
              "Text(0.5, 1.0, 'TIcket Class vs Survival')"
            ]
          },
          "metadata": {
            "tags": []
          },
          "execution_count": 30
        },
        {
          "output_type": "display_data",
          "data": {
            "image/png": "[encoded data removed]",
            "text/plain": [
              "<Figure size 432x288 with 1 Axes>"
            ]
          },
          "metadata": {
            "tags": []
          }
        }
      ]
    },
    {
      "cell_type": "markdown",
      "metadata": {
        "id": "zhFVfFn8J5XS",
        "colab_type": "text"
      },
      "source": [
        "The poor folks in the third class had a higher death count than the ones in first of second class. The survival count was highest for the 1st class passengers, followed by the third class and then the second class. This could be because not many people were staying in the second class."
      ]
    },
    {
      "cell_type": "code",
      "metadata": {
        "id": "gH61ZSsJKSQX",
        "colab_type": "code",
        "outputId": "db112b32-714c-407e-f8a1-74711eb61211",
        "colab": {
          "base_uri": "https://localhost:8080/",
          "height": 363
        }
      },
      "source": [
        "fig = plt.figure(figsize=(12,5))\n",
        "plt.subplots_adjust(hspace=0.5)\n",
        "\n",
        "ax=plt.subplot2grid((1,2), (0,0))\n",
        "titanic_df.groupby(['Parch', 'Survived']).size().unstack().plot(kind='bar', stacked=True, ax=ax)\n",
        "plt.title('Parent/Child vs Survived')\n",
        "plt.ylabel('Count')\n",
        "\n",
        "ax=plt.subplot2grid((1,2), (0,1))\n",
        "titanic_df.groupby(['SibSp', 'Survived']).size().unstack().plot(kind='bar', stacked=True, ax=ax)\n",
        "plt.title('Sibling/SPouse vs Survived')\n",
        "plt.ylabel('Count')\n",
        "\n"
      ],
      "execution_count": 0,
      "outputs": [
        {
          "output_type": "execute_result",
          "data": {
            "text/plain": [
              "Text(0, 0.5, 'Count')"
            ]
          },
          "metadata": {
            "tags": []
          },
          "execution_count": 31
        },
        {
          "output_type": "display_data",
          "data": {
            "image/png": "[encoded data removed]",
            "text/plain": [
              "<Figure size 864x360 with 2 Axes>"
            ]
          },
          "metadata": {
            "tags": []
          }
        }
      ]
    },
    {
      "cell_type": "markdown",
      "metadata": {
        "id": "77jN8bdkLKBt",
        "colab_type": "text"
      },
      "source": [
        "These two bar charts show that if a passenger was accompanied by either spouse/sibling or parent/child, their odds of surviving was much higher than if they were on board the ship by themselves."
      ]
    },
    {
      "cell_type": "markdown",
      "metadata": {
        "id": "KDKvbu2SL07G",
        "colab_type": "text"
      },
      "source": [
        "#Feature Engineering"
      ]
    },
    {
      "cell_type": "markdown",
      "metadata": {
        "id": "TxfVR3REL8xT",
        "colab_type": "text"
      },
      "source": [
        "Previously, we have seen that both features SibSp and Parch have similar influence on survival. Let us calculate if the passenger travelled alone or with their family members. Instead of two separate features, we can combine a new feature called FamilySize"
      ]
    },
    {
      "cell_type": "code",
      "metadata": {
        "id": "C4Nt-ku4MUV7",
        "colab_type": "code",
        "colab": {}
      },
      "source": [
        "titanic_df['FamilySize'] = titanic_df['SibSp'] + titanic_df['Parch'] + 1"
      ],
      "execution_count": 0,
      "outputs": []
    },
    {
      "cell_type": "code",
      "metadata": {
        "id": "OPdVA9fUMu0J",
        "colab_type": "code",
        "outputId": "f9adb648-6866-454c-9347-e17107165526",
        "colab": {
          "base_uri": "https://localhost:8080/",
          "height": 315
        }
      },
      "source": [
        "titanic_df.groupby(['FamilySize', 'Survived']).size().unstack().plot(kind='bar', stacked=True)\n",
        "plt.title('Family vs Survival')"
      ],
      "execution_count": 21,
      "outputs": [
        {
          "output_type": "execute_result",
          "data": {
            "text/plain": [
              "Text(0.5, 1.0, 'Family vs Survival')"
            ]
          },
          "metadata": {
            "tags": []
          },
          "execution_count": 21
        },
        {
          "output_type": "display_data",
          "data": {
            "image/png": "[encoded data removed]",
            "text/plain": [
              "<Figure size 432x288 with 1 Axes>"
            ]
          },
          "metadata": {
            "tags": []
          }
        }
      ]
    },
    {
      "cell_type": "markdown",
      "metadata": {
        "id": "TcYh1z0ENMAv",
        "colab_type": "text"
      },
      "source": [
        "If the passenger was with family members, their odds of survival were better.\n",
        "Now let us have a look at the modified dataset"
      ]
    },
    {
      "cell_type": "code",
      "metadata": {
        "id": "nCxZtT0INVq8",
        "colab_type": "code",
        "outputId": "1c1598d3-138c-4c46-a501-d4b9d158c7e8",
        "colab": {
          "base_uri": "https://localhost:8080/",
          "height": 323
        }
      },
      "source": [
        "titanic_df.info()"
      ],
      "execution_count": 22,
      "outputs": [
        {
          "output_type": "stream",
          "text": [
            "<class 'pandas.core.frame.DataFrame'>\n",
            "RangeIndex: 891 entries, 0 to 890\n",
            "Data columns (total 13 columns):\n",
            "PassengerId    891 non-null int64\n",
            "Survived       891 non-null int64\n",
            "Pclass         891 non-null int64\n",
            "Name           891 non-null object\n",
            "Sex            891 non-null object\n",
            "Age            714 non-null float64\n",
            "SibSp          891 non-null int64\n",
            "Parch          891 non-null int64\n",
            "Ticket         891 non-null object\n",
            "Fare           891 non-null float64\n",
            "Cabin          204 non-null object\n",
            "Embarked       891 non-null object\n",
            "FamilySize     891 non-null int64\n",
            "dtypes: float64(2), int64(6), object(5)\n",
            "memory usage: 90.6+ KB\n"
          ],
          "name": "stdout"
        }
      ]
    },
    {
      "cell_type": "markdown",
      "metadata": {
        "id": "yNxbBzZhNjna",
        "colab_type": "text"
      },
      "source": [
        "Now, let us look at the test data to see if they have any missing values.\n"
      ]
    },
    {
      "cell_type": "code",
      "metadata": {
        "id": "u2WKpbGsNqON",
        "colab_type": "code",
        "outputId": "86ea3e81-312c-42ba-b744-90d4e3152ac0",
        "colab": {
          "base_uri": "https://localhost:8080/",
          "height": 289
        }
      },
      "source": [
        "test = pd.read_csv('test.csv')\n",
        "\n",
        "test.info()"
      ],
      "execution_count": 23,
      "outputs": [
        {
          "output_type": "stream",
          "text": [
            "<class 'pandas.core.frame.DataFrame'>\n",
            "RangeIndex: 418 entries, 0 to 417\n",
            "Data columns (total 11 columns):\n",
            "PassengerId    418 non-null int64\n",
            "Pclass         418 non-null int64\n",
            "Name           418 non-null object\n",
            "Sex            418 non-null object\n",
            "Age            332 non-null float64\n",
            "SibSp          418 non-null int64\n",
            "Parch          418 non-null int64\n",
            "Ticket         418 non-null object\n",
            "Fare           417 non-null float64\n",
            "Cabin          91 non-null object\n",
            "Embarked       418 non-null object\n",
            "dtypes: float64(2), int64(4), object(5)\n",
            "memory usage: 36.0+ KB\n"
          ],
          "name": "stdout"
        }
      ]
    },
    {
      "cell_type": "markdown",
      "metadata": {
        "id": "jjiY_XbzrVYI",
        "colab_type": "text"
      },
      "source": [
        "Age , Fare and Cabin have missing values. Let us ignore Cabin as we are not going to use that feature. WE have to fill the missing values with the median of existing values. Also, we will be adding 'FamilySIze', the new feature introduced as part of our feature engineering."
      ]
    },
    {
      "cell_type": "code",
      "metadata": {
        "id": "SdLj5bG8rv60",
        "colab_type": "code",
        "colab": {}
      },
      "source": [
        "test['Age'] = test.groupby(['Sex', 'Pclass'])['Age'].transform(lambda x: x.fillna(x.median()))\n",
        "test['Fare'] = test['Fare'].fillna(test['Fare'].dropna().median())\n",
        "test['FamilySize'] = test['SibSp'] + test['Parch'] + 1\n",
        "                                                               "
      ],
      "execution_count": 0,
      "outputs": []
    },
    {
      "cell_type": "markdown",
      "metadata": {
        "id": "0Cmeyq7YstDJ",
        "colab_type": "text"
      },
      "source": [
        "The test dataset now looks as follows:"
      ]
    },
    {
      "cell_type": "code",
      "metadata": {
        "id": "0A99rAElsyD8",
        "colab_type": "code",
        "outputId": "e2e5265c-79b8-4f7a-bd0e-ecb3497ad19b",
        "colab": {
          "base_uri": "https://localhost:8080/",
          "height": 306
        }
      },
      "source": [
        "test.info()"
      ],
      "execution_count": 25,
      "outputs": [
        {
          "output_type": "stream",
          "text": [
            "<class 'pandas.core.frame.DataFrame'>\n",
            "RangeIndex: 418 entries, 0 to 417\n",
            "Data columns (total 12 columns):\n",
            "PassengerId    418 non-null int64\n",
            "Pclass         418 non-null int64\n",
            "Name           418 non-null object\n",
            "Sex            418 non-null object\n",
            "Age            418 non-null float64\n",
            "SibSp          418 non-null int64\n",
            "Parch          418 non-null int64\n",
            "Ticket         418 non-null object\n",
            "Fare           418 non-null float64\n",
            "Cabin          91 non-null object\n",
            "Embarked       418 non-null object\n",
            "FamilySize     418 non-null int64\n",
            "dtypes: float64(2), int64(5), object(5)\n",
            "memory usage: 39.3+ KB\n"
          ],
          "name": "stdout"
        }
      ]
    },
    {
      "cell_type": "markdown",
      "metadata": {
        "id": "hsaoQiIMtQRA",
        "colab_type": "text"
      },
      "source": [
        "As PassengerId, Name, Ticket will not help t predict whether the passengers survuved or not, we will be dropping these features along with the Cabin. Also, we have already merged the SibSp and Parch into FamilySize, hence, we will not be using these two features as well. \n",
        "we have to apply hot encoding for categorical variables like Sex, Embarked and Pclass. Let us create X_train and X_test"
      ]
    },
    {
      "cell_type": "code",
      "metadata": {
        "id": "UihWR-58tz79",
        "colab_type": "code",
        "colab": {}
      },
      "source": [
        "X_train = titanic_df[['Pclass','Sex', 'Age', 'Fare', 'Embarked', 'FamilySize']]\n",
        "X_test = test[['Pclass','Sex', 'Age', 'Fare', 'Embarked', 'FamilySize']]\n",
        "labels_to_encode = ['Pclass', 'Sex', 'Embarked']\n",
        "for label in labels_to_encode:\n",
        "    X_train = X_train.join(pd.get_dummies(X_train[label], prefix = label))\n",
        "    X_train.drop(label, axis=1, inplace=True)\n",
        "for label in labels_to_encode:\n",
        "    X_test = X_test.join(pd.get_dummies(X_test[label], prefix = label))\n",
        "    X_test.drop(label, axis=1, inplace=True)\n",
        "y = titanic_df['Survived'].values"
      ],
      "execution_count": 0,
      "outputs": []
    },
    {
      "cell_type": "markdown",
      "metadata": {
        "id": "tK7a-FI8vzeC",
        "colab_type": "text"
      },
      "source": [
        "Now, X_train looks like as follows"
      ]
    },
    {
      "cell_type": "code",
      "metadata": {
        "id": "tZWOESdqv2oa",
        "colab_type": "code",
        "colab": {}
      },
      "source": [
        "X_train.head()\n",
        "X_train.fillna(-99999, inplace=True)"
      ],
      "execution_count": 0,
      "outputs": []
    },
    {
      "cell_type": "markdown",
      "metadata": {
        "id": "7yQQPKrN8Amf",
        "colab_type": "text"
      },
      "source": [
        "#Training the model"
      ]
    },
    {
      "cell_type": "markdown",
      "metadata": {
        "id": "WIQ8xGvU8HIO",
        "colab_type": "text"
      },
      "source": [
        "#We will use the Random Forest Classifier"
      ]
    },
    {
      "cell_type": "code",
      "metadata": {
        "id": "l3_vWvg-k-aG",
        "colab_type": "code",
        "outputId": "aa1ec932-aa7d-4b17-f047-55d3b616749c",
        "colab": {
          "base_uri": "https://localhost:8080/",
          "height": 34
        }
      },
      "source": [
        "\n",
        "rfclr = RandomForestClassifier(n_estimators=100, max_depth = 7)\n",
        "scores = cross_val_score(rfclr, X_train, y, cv=5)\n",
        "print(round(np.mean(scores*100)))\n",
        "rfclr.fit(X_train, y)\n",
        "predictions_rf = rfclr.predict(X_test)\n",
        "submission_rf = pd.DataFrame({\n",
        "        \"PassengerId\": test[\"PassengerId\"],\n",
        "        \"Survived\": predictions_rf\n",
        "})\n",
        "submission_rf.to_csv('titanic_dt.csv', index=False)"
      ],
      "execution_count": 28,
      "outputs": [
        {
          "output_type": "stream",
          "text": [
            "82.0\n"
          ],
          "name": "stdout"
        }
      ]
    },
    {
      "cell_type": "markdown",
      "metadata": {
        "id": "nlRkUTpqpnpN",
        "colab_type": "text"
      },
      "source": [
        ""
      ]
    },
    {
      "cell_type": "code",
      "metadata": {
        "id": "3FiWJTsppoHT",
        "colab_type": "code",
        "outputId": "75f1e151-6abc-4645-fd8a-ea520b7517e2",
        "colab": {
          "base_uri": "https://localhost:8080/",
          "height": 204
        }
      },
      "source": [
        "titanic_submission = pd.read_csv('titanic_dt.csv')\n",
        "titanic_submission.head()"
      ],
      "execution_count": 29,
      "outputs": [
        {
          "output_type": "execute_result",
          "data": {
            "text/html": [
              "<div>\n",
              "<style scoped>\n",
              "    .dataframe tbody tr th:only-of-type {\n",
              "        vertical-align: middle;\n",
              "    }\n",
              "\n",
              "    .dataframe tbody tr th {\n",
              "        vertical-align: top;\n",
              "    }\n",
              "\n",
              "    .dataframe thead th {\n",
              "        text-align: right;\n",
              "    }\n",
              "</style>\n",
              "<table border=\"1\" class=\"dataframe\">\n",
              "  <thead>\n",
              "    <tr style=\"text-align: right;\">\n",
              "      <th></th>\n",
              "      <th>PassengerId</th>\n",
              "      <th>Survived</th>\n",
              "    </tr>\n",
              "  </thead>\n",
              "  <tbody>\n",
              "    <tr>\n",
              "      <th>0</th>\n",
              "      <td>892</td>\n",
              "      <td>0</td>\n",
              "    </tr>\n",
              "    <tr>\n",
              "      <th>1</th>\n",
              "      <td>893</td>\n",
              "      <td>0</td>\n",
              "    </tr>\n",
              "    <tr>\n",
              "      <th>2</th>\n",
              "      <td>894</td>\n",
              "      <td>0</td>\n",
              "    </tr>\n",
              "    <tr>\n",
              "      <th>3</th>\n",
              "      <td>895</td>\n",
              "      <td>0</td>\n",
              "    </tr>\n",
              "    <tr>\n",
              "      <th>4</th>\n",
              "      <td>896</td>\n",
              "      <td>1</td>\n",
              "    </tr>\n",
              "  </tbody>\n",
              "</table>\n",
              "</div>"
            ],
            "text/plain": [
              "   PassengerId  Survived\n",
              "0          892         0\n",
              "1          893         0\n",
              "2          894         0\n",
              "3          895         0\n",
              "4          896         1"
            ]
          },
          "metadata": {
            "tags": []
          },
          "execution_count": 29
        }
      ]
    },
    {
      "cell_type": "markdown",
      "metadata": {
        "id": "dJ1TfALzpBfh",
        "colab_type": "text"
      },
      "source": [
        "#This gave us an accuracy of 82 percent"
      ]
    },
    {
      "cell_type": "code",
      "metadata": {
        "id": "nCR2lQz7rBoY",
        "colab_type": "code",
        "colab": {}
      },
      "source": [
        "from google.colab import files\n",
        "files.download('titanic_dt.csv')"
      ],
      "execution_count": 0,
      "outputs": []
    },
    {
      "cell_type": "markdown",
      "metadata": {
        "id": "27m3UHMX1U2h",
        "colab_type": "text"
      },
      "source": [
        "In order to download the csv file for Kaggle use the above code and it should download it to your machine."
      ]
    }
  ]
}